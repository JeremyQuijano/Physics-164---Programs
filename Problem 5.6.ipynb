{
 "cells": [
  {
   "cell_type": "markdown",
   "metadata": {},
   "source": [
    "# Nuclear Physics Liley"
   ]
  },
  {
   "cell_type": "code",
   "execution_count": 166,
   "metadata": {},
   "outputs": [],
   "source": [
    "# Import libraries\n",
    "import numpy as np"
   ]
  },
  {
   "cell_type": "code",
   "execution_count": 195,
   "metadata": {
    "scrolled": true
   },
   "outputs": [
    {
     "name": "stdout",
     "output_type": "stream",
     "text": [
      "ion \t k \t Energy Loss\n",
      "\t 1/keV \t keV*cm^2/mg\n",
      "----- \t ----- \t -----------\n",
      "Alpha \t 5.2115  233.0\n",
      "Proton \t 0.4521  20.2129\n",
      "2H \t 0.7778  34.7745\n",
      "3He \t 4.2234  188.8232\n"
     ]
    }
   ],
   "source": [
    "# Problem 5.6\n",
    "\n",
    "# Constants and Parameters\n",
    "ion = [\"Alpha\", \"Proton\", \"2H\", \"3He\"]\n",
    "E = 10000                 # MeV\n",
    "dE_pdx = 233              # keV*cm^2/mg\n",
    "mratio = [1, 4, 2, 4/3]   # ratio of masses\n",
    "z = [2, 1, 1, 2]          # charge number\n",
    "me = 511                  # keV\n",
    "malpha = 3727000          # keV\n",
    "mv2 = (2*E)*(me/malpha)   # keV\n",
    "I = 0.154                 # keV\n",
    "\n",
    "for i in range(4):\n",
    "    k.append(round((z[i]**2/(mratio[i]*mv2))*np.log((2*mratio[i]*mv2)/I), 4))\n",
    "    \n",
    "for i in range(4):\n",
    "    dE.append(round(k[i]/k[0]*dE_pdx, 4))\n",
    "\n",
    "# Calculations shown in table form\n",
    "print(\"ion\", '\\t', 'k', '\\t', \"Energy Loss\")\n",
    "print('\\t', \"1/keV\", '\\t', \"keV*cm^2/mg\")\n",
    "print(\"-----\", '\\t', '-----', '\\t', \"-----------\")\n",
    "\n",
    "for x in range(4):\n",
    "    print(ion[x], '\\t', k[x], '', dE[x])"
   ]
  },
  {
   "cell_type": "code",
   "execution_count": 202,
   "metadata": {},
   "outputs": [
    {
     "name": "stdout",
     "output_type": "stream",
     "text": [
      "\t X \t n \t    nhalf\n",
      "\t --- \t --- \t    -----\n",
      "Be \t 0.2058  88.4234    3.3681\n",
      "Fe \t 0.0353  515.511    19.6359\n",
      "Pb \t 0.0096  1895.5768  72.2028\n"
     ]
    }
   ],
   "source": [
    "# Problem 5.15\n",
    "\n",
    "getcontext().prec = 4\n",
    "A = [9, 56, 207]   # Mass Number\n",
    "X = []             # Logarithmic Energy Decrement\n",
    "n = []             # Collisions\n",
    "nhalf = []         # Half Collisions\n",
    "E0 = 2E6           # MeV\n",
    "E1 = 0.025         # eV\n",
    "\n",
    "for i in range(3):\n",
    "    X.append(round((2/A[i]) - (4/(3*A[i]**2)), 4))\n",
    "    \n",
    "for i in range(3):\n",
    "    n.append(round((1/X[i]) * np.log(E0/E1), 4))\n",
    "    \n",
    "for i in range(3):\n",
    "    nhalf.append(round((1/X[i]) * np.log(2), 4))\n",
    "    \n",
    "    \n",
    "print('\\t', \"X\", '\\t', \"n\", '\\t   ', \"nhalf\")\n",
    "print('\\t', \"---\", '\\t', \"---\", '\\t   ', \"-----\")\n",
    "print(\"Be\", '\\t', X[0],'', n[0],'  ', nhalf[0])\n",
    "print(\"Fe\", '\\t', X[1],'', n[1],'  ', nhalf[1])\n",
    "print(\"Pb\", '\\t', X[2],'', n[2],'', nhalf[2])"
   ]
  }
 ],
 "metadata": {
  "kernelspec": {
   "display_name": "Python 3",
   "language": "python",
   "name": "python3"
  },
  "language_info": {
   "codemirror_mode": {
    "name": "ipython",
    "version": 3
   },
   "file_extension": ".py",
   "mimetype": "text/x-python",
   "name": "python",
   "nbconvert_exporter": "python",
   "pygments_lexer": "ipython3",
   "version": "3.7.0"
  }
 },
 "nbformat": 4,
 "nbformat_minor": 2
}
