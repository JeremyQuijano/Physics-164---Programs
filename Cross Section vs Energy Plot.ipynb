{
 "cells": [
  {
   "cell_type": "code",
   "execution_count": 15,
   "metadata": {},
   "outputs": [
    {
     "name": "stdout",
     "output_type": "stream",
     "text": [
      "x-intercept =  0.04927483617796364\n",
      "y-intercept =  2817.422628459227\n"
     ]
    },
    {
     "data": {
      "image/png": "[encoded data removed]",
      "text/plain": [
       "<Figure size 432x288 with 1 Axes>"
      ]
     },
     "metadata": {
      "needs_background": "light"
     },
     "output_type": "display_data"
    }
   ],
   "source": [
    "# Cross section vs 1/Energy Plot\n",
    "%matplotlib inline\n",
    "import matplotlib.pyplot as plt\n",
    "import numpy as np\n",
    "\n",
    "energy = [1/21, 1/22, 1/24.5, 1/30, 1/35, 1/40]\n",
    "cross_section = [100, 200, 500, 900, 1210, 1370]\n",
    "\n",
    "m, yint = np.polyfit(energy, cross_section, 1)\n",
    "xint = -yint/m\n",
    "print(\"x-intercept = \", xint)\n",
    "print(\"y-intercept = \", yint)\n",
    "\n",
    "plt.scatter(energy, cross_section)\n",
    "plt.xlabel('1/Energy (1/MeV)')\n",
    "plt.ylabel('Cross Section (mb)')\n",
    "plt.show()"
   ]
  },
  {
   "cell_type": "code",
   "execution_count": 10,
   "metadata": {},
   "outputs": [],
   "source": [
    "from numpy import pi as pi\n",
    "\n",
    "# Constants\n",
    "C = 1.44\n",
    "\n",
    "# Parameters\n",
    "Z1 = 4\n",
    "Z2 = 83\n",
    "E = 0.049\n",
    "R = 0\n",
    "B = 0\n",
    "\n",
    "def sigma(R,E):\n",
    "    return pi*R**2(1-(B(Z1,Z2,C)/E))\n",
    "def B(Z1,Z2,C):\n",
    "    return Z1*Z2*C / R\n",
    "\n"
   ]
  },
  {
   "cell_type": "code",
   "execution_count": null,
   "metadata": {},
   "outputs": [],
   "source": []
  }
 ],
 "metadata": {
  "kernelspec": {
   "display_name": "Python 3",
   "language": "python",
   "name": "python3"
  },
  "language_info": {
   "codemirror_mode": {
    "name": "ipython",
    "version": 3
   },
   "file_extension": ".py",
   "mimetype": "text/x-python",
   "name": "python",
   "nbconvert_exporter": "python",
   "pygments_lexer": "ipython3",
   "version": "3.7.0"
  }
 },
 "nbformat": 4,
 "nbformat_minor": 2
}
